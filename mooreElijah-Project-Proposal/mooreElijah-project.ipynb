{
 "cells": [
  {
   "cell_type": "markdown",
   "metadata": {},
   "source": [
    "# CPE 490 Final Project\n",
    "### By Elijah Moore  \n",
    "\n",
    "## 1. Acquiring the Data"
   ]
  },
  {
   "cell_type": "code",
   "execution_count": 2,
   "metadata": {},
   "outputs": [
    {
     "name": "stdout",
     "output_type": "stream",
     "text": [
      "[*********************100%%**********************]  1 of 1 completed\n"
     ]
    },
    {
     "data": {
      "text/html": [
       "<div>\n",
       "<style scoped>\n",
       "    .dataframe tbody tr th:only-of-type {\n",
       "        vertical-align: middle;\n",
       "    }\n",
       "\n",
       "    .dataframe tbody tr th {\n",
       "        vertical-align: top;\n",
       "    }\n",
       "\n",
       "    .dataframe thead th {\n",
       "        text-align: right;\n",
       "    }\n",
       "</style>\n",
       "<table border=\"1\" class=\"dataframe\">\n",
       "  <thead>\n",
       "    <tr style=\"text-align: right;\">\n",
       "      <th></th>\n",
       "      <th>Open</th>\n",
       "      <th>High</th>\n",
       "      <th>Low</th>\n",
       "      <th>Close</th>\n",
       "      <th>Adj Close</th>\n",
       "      <th>Volume</th>\n",
       "    </tr>\n",
       "    <tr>\n",
       "      <th>Date</th>\n",
       "      <th></th>\n",
       "      <th></th>\n",
       "      <th></th>\n",
       "      <th></th>\n",
       "      <th></th>\n",
       "      <th></th>\n",
       "    </tr>\n",
       "  </thead>\n",
       "  <tbody>\n",
       "    <tr>\n",
       "      <th>2013-04-15</th>\n",
       "      <td>98.441002</td>\n",
       "      <td>98.683998</td>\n",
       "      <td>97.623001</td>\n",
       "      <td>98.405998</td>\n",
       "      <td>98.405998</td>\n",
       "      <td>0</td>\n",
       "    </tr>\n",
       "    <tr>\n",
       "      <th>2013-04-16</th>\n",
       "      <td>96.801003</td>\n",
       "      <td>98.151001</td>\n",
       "      <td>96.588997</td>\n",
       "      <td>96.800003</td>\n",
       "      <td>96.800003</td>\n",
       "      <td>0</td>\n",
       "    </tr>\n",
       "    <tr>\n",
       "      <th>2013-04-17</th>\n",
       "      <td>97.607002</td>\n",
       "      <td>98.419998</td>\n",
       "      <td>97.524002</td>\n",
       "      <td>97.610001</td>\n",
       "      <td>97.610001</td>\n",
       "      <td>0</td>\n",
       "    </tr>\n",
       "    <tr>\n",
       "      <th>2013-04-18</th>\n",
       "      <td>98.059998</td>\n",
       "      <td>98.501999</td>\n",
       "      <td>97.639999</td>\n",
       "      <td>98.028999</td>\n",
       "      <td>98.028999</td>\n",
       "      <td>0</td>\n",
       "    </tr>\n",
       "    <tr>\n",
       "      <th>2013-04-19</th>\n",
       "      <td>98.222000</td>\n",
       "      <td>99.329002</td>\n",
       "      <td>98.114998</td>\n",
       "      <td>98.203003</td>\n",
       "      <td>98.203003</td>\n",
       "      <td>0</td>\n",
       "    </tr>\n",
       "  </tbody>\n",
       "</table>\n",
       "</div>"
      ],
      "text/plain": [
       "                 Open       High        Low      Close  Adj Close  Volume\n",
       "Date                                                                     \n",
       "2013-04-15  98.441002  98.683998  97.623001  98.405998  98.405998       0\n",
       "2013-04-16  96.801003  98.151001  96.588997  96.800003  96.800003       0\n",
       "2013-04-17  97.607002  98.419998  97.524002  97.610001  97.610001       0\n",
       "2013-04-18  98.059998  98.501999  97.639999  98.028999  98.028999       0\n",
       "2013-04-19  98.222000  99.329002  98.114998  98.203003  98.203003       0"
      ]
     },
     "execution_count": 2,
     "metadata": {},
     "output_type": "execute_result"
    }
   ],
   "source": [
    "import yfinance as yf\n",
    "import datetime as dt\n",
    "import pandas as pd\n",
    "\n",
    "# Stock Tickers\n",
    "apple = \"AAPL\"\n",
    "tesla = \"TSLA\"\n",
    "microsoft = \"MSFT\"\n",
    "nvidia = \"NVDA\"\n",
    "ford = \"F\"\n",
    "google = \"GOOGL\"\n",
    "\n",
    "\n",
    "# Acquires two years of Historical Data\n",
    "start_date = dt.datetime.today()- dt.timedelta(days=730) \n",
    "end_date = dt.datetime.today()\n",
    "\n",
    "apple_hist = yf.download(apple, start_date, end_date)\n",
    "tesla_hist = yf.download(tesla, start_date, end_date)\n",
    "microsoft_hist = yf.download(microsoft, start_date, end_date)\n",
    "nvidia_hist = yf.download(nvidia, start_date, end_date)\n",
    "ford_hist = yf.download(ford, start_date, end_date)\n",
    "google_hist = yf.download(google, start_date, end_date)\n",
    "\n",
    "\n",
    "apple_hist.head()"
   ]
  }
 ],
 "metadata": {
  "kernelspec": {
   "display_name": "Python 3 (ipykernel)",
   "language": "python",
   "name": "python3"
  },
  "language_info": {
   "codemirror_mode": {
    "name": "ipython",
    "version": 3
   },
   "file_extension": ".py",
   "mimetype": "text/x-python",
   "name": "python",
   "nbconvert_exporter": "python",
   "pygments_lexer": "ipython3",
   "version": "3.11.5"
  }
 },
 "nbformat": 4,
 "nbformat_minor": 4
}
