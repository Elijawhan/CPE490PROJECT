{
 "cells": [
  {
   "cell_type": "markdown",
   "metadata": {},
   "source": [
    "# CPE 490 Final Project\n",
    "### By Elijah Moore  \n",
    "\n",
    "## 1. Acquiring the Data"
   ]
  },
  {
   "cell_type": "code",
   "execution_count": 1,
   "metadata": {},
   "outputs": [
    {
     "name": "stderr",
     "output_type": "stream",
     "text": [
      "[*********************100%%**********************]  1 of 1 completed\n",
      "[*********************100%%**********************]  1 of 1 completed\n",
      "[*********************100%%**********************]  1 of 1 completed\n",
      "[*********************100%%**********************]  1 of 1 completed\n",
      "[*********************100%%**********************]  1 of 1 completed\n",
      "[*********************100%%**********************]  1 of 1 completed\n"
     ]
    },
    {
     "data": {
      "text/html": [
       "<div>\n",
       "<style scoped>\n",
       "    .dataframe tbody tr th:only-of-type {\n",
       "        vertical-align: middle;\n",
       "    }\n",
       "\n",
       "    .dataframe tbody tr th {\n",
       "        vertical-align: top;\n",
       "    }\n",
       "\n",
       "    .dataframe thead th {\n",
       "        text-align: right;\n",
       "    }\n",
       "</style>\n",
       "<table border=\"1\" class=\"dataframe\">\n",
       "  <thead>\n",
       "    <tr style=\"text-align: right;\">\n",
       "      <th></th>\n",
       "      <th>Open</th>\n",
       "      <th>High</th>\n",
       "      <th>Low</th>\n",
       "      <th>Close</th>\n",
       "      <th>Adj Close</th>\n",
       "      <th>Volume</th>\n",
       "    </tr>\n",
       "    <tr>\n",
       "      <th>Date</th>\n",
       "      <th></th>\n",
       "      <th></th>\n",
       "      <th></th>\n",
       "      <th></th>\n",
       "      <th></th>\n",
       "      <th></th>\n",
       "    </tr>\n",
       "  </thead>\n",
       "  <tbody>\n",
       "    <tr>\n",
       "      <th>2022-04-08</th>\n",
       "      <td>171.779999</td>\n",
       "      <td>171.779999</td>\n",
       "      <td>169.199997</td>\n",
       "      <td>170.089996</td>\n",
       "      <td>168.168213</td>\n",
       "      <td>76575500</td>\n",
       "    </tr>\n",
       "    <tr>\n",
       "      <th>2022-04-11</th>\n",
       "      <td>168.710007</td>\n",
       "      <td>169.029999</td>\n",
       "      <td>165.500000</td>\n",
       "      <td>165.750000</td>\n",
       "      <td>163.877274</td>\n",
       "      <td>72246700</td>\n",
       "    </tr>\n",
       "    <tr>\n",
       "      <th>2022-04-12</th>\n",
       "      <td>168.020004</td>\n",
       "      <td>169.869995</td>\n",
       "      <td>166.639999</td>\n",
       "      <td>167.660004</td>\n",
       "      <td>165.765686</td>\n",
       "      <td>79265200</td>\n",
       "    </tr>\n",
       "    <tr>\n",
       "      <th>2022-04-13</th>\n",
       "      <td>167.389999</td>\n",
       "      <td>171.039993</td>\n",
       "      <td>166.770004</td>\n",
       "      <td>170.399994</td>\n",
       "      <td>168.474701</td>\n",
       "      <td>70618900</td>\n",
       "    </tr>\n",
       "    <tr>\n",
       "      <th>2022-04-14</th>\n",
       "      <td>170.619995</td>\n",
       "      <td>171.270004</td>\n",
       "      <td>165.039993</td>\n",
       "      <td>165.289993</td>\n",
       "      <td>163.422424</td>\n",
       "      <td>75329400</td>\n",
       "    </tr>\n",
       "  </tbody>\n",
       "</table>\n",
       "</div>"
      ],
      "text/plain": [
       "                  Open        High         Low       Close   Adj Close  \\\n",
       "Date                                                                     \n",
       "2022-04-08  171.779999  171.779999  169.199997  170.089996  168.168213   \n",
       "2022-04-11  168.710007  169.029999  165.500000  165.750000  163.877274   \n",
       "2022-04-12  168.020004  169.869995  166.639999  167.660004  165.765686   \n",
       "2022-04-13  167.389999  171.039993  166.770004  170.399994  168.474701   \n",
       "2022-04-14  170.619995  171.270004  165.039993  165.289993  163.422424   \n",
       "\n",
       "              Volume  \n",
       "Date                  \n",
       "2022-04-08  76575500  \n",
       "2022-04-11  72246700  \n",
       "2022-04-12  79265200  \n",
       "2022-04-13  70618900  \n",
       "2022-04-14  75329400  "
      ]
     },
     "execution_count": 1,
     "metadata": {},
     "output_type": "execute_result"
    }
   ],
   "source": [
    "import yfinance as yf\n",
    "import datetime as dt\n",
    "\n",
    "# Stock Tickers\n",
    "apple = \"AAPL\"\n",
    "tesla = \"TSLA\"\n",
    "microsoft = \"MSFT\"\n",
    "nvidia = \"NVDA\"\n",
    "ford = \"F\"\n",
    "google = \"GOOGL\"\n",
    "\n",
    "\n",
    "# Acquires two years of Historical Data\n",
    "start_date = dt.datetime.today()- dt.timedelta(days=730) \n",
    "end_date = dt.datetime.today()\n",
    "\n",
    "apple_hist = yf.download(apple, start_date, end_date)\n",
    "tesla_hist = yf.download(tesla, start_date, end_date)\n",
    "microsoft_hist = yf.download(microsoft, start_date, end_date)\n",
    "nvidia_hist = yf.download(nvidia, start_date, end_date)\n",
    "ford_hist = yf.download(ford, start_date, end_date)\n",
    "google_hist = yf.download(google, start_date, end_date)\n",
    "\n",
    "\n",
    "# apple_hist.head()"
   ]
  },
  {
   "cell_type": "markdown",
   "metadata": {},
   "source": [
    "## Model for running "
   ]
  },
  {
   "cell_type": "code",
   "execution_count": null,
   "metadata": {},
   "outputs": [],
   "source": []
  }
 ],
 "metadata": {
  "kernelspec": {
   "display_name": "Python 3 (ipykernel)",
   "language": "python",
   "name": "python3"
  },
  "language_info": {
   "codemirror_mode": {
    "name": "ipython",
    "version": 3
   },
   "file_extension": ".py",
   "mimetype": "text/x-python",
   "name": "python",
   "nbconvert_exporter": "python",
   "pygments_lexer": "ipython3",
   "version": "3.11.5"
  }
 },
 "nbformat": 4,
 "nbformat_minor": 4
}
